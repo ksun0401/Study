{
 "cells": [
  {
   "cell_type": "code",
   "execution_count": 43,
   "id": "09e29f34-311f-41f4-9495-3fda97285d29",
   "metadata": {},
   "outputs": [
    {
     "name": "stderr",
     "output_type": "stream",
     "text": [
      "C:\\Users\\user\\AppData\\Local\\Temp/ipykernel_21476/3076014760.py:6: DtypeWarning: Columns (70,71,72,73,74,76,79) have mixed types. Specify dtype option on import or set low_memory=False.\n",
      "  fueleco = pd.read_csv('Desktop/vehicles.csv.zip')\n"
     ]
    }
   ],
   "source": [
    "import numpy as np\n",
    "import pandas as pd\n",
    "import matplotlib.pyplot as plt\n",
    "import seaborn as sns\n",
    "\n",
    "fueleco = pd.read_csv('Desktop/vehicles.csv.zip')"
   ]
  },
  {
   "cell_type": "code",
   "execution_count": 44,
   "id": "eec72850-da8c-4a91-be46-5424c4cddb41",
   "metadata": {},
   "outputs": [
    {
     "data": {
      "text/html": [
       "<div>\n",
       "<style scoped>\n",
       "    .dataframe tbody tr th:only-of-type {\n",
       "        vertical-align: middle;\n",
       "    }\n",
       "\n",
       "    .dataframe tbody tr th {\n",
       "        vertical-align: top;\n",
       "    }\n",
       "\n",
       "    .dataframe thead th {\n",
       "        text-align: right;\n",
       "    }\n",
       "</style>\n",
       "<table border=\"1\" class=\"dataframe\">\n",
       "  <thead>\n",
       "    <tr style=\"text-align: right;\">\n",
       "      <th></th>\n",
       "      <th>barrels08</th>\n",
       "      <th>barrelsA08</th>\n",
       "      <th>charge120</th>\n",
       "      <th>charge240</th>\n",
       "      <th>city08</th>\n",
       "      <th>city08U</th>\n",
       "      <th>cityA08</th>\n",
       "      <th>cityA08U</th>\n",
       "      <th>cityCD</th>\n",
       "      <th>cityE</th>\n",
       "      <th>...</th>\n",
       "      <th>mfrCode</th>\n",
       "      <th>c240Dscr</th>\n",
       "      <th>charge240b</th>\n",
       "      <th>c240bDscr</th>\n",
       "      <th>createdOn</th>\n",
       "      <th>modifiedOn</th>\n",
       "      <th>startStop</th>\n",
       "      <th>phevCity</th>\n",
       "      <th>phevHwy</th>\n",
       "      <th>phevComb</th>\n",
       "    </tr>\n",
       "  </thead>\n",
       "  <tbody>\n",
       "    <tr>\n",
       "      <th>0</th>\n",
       "      <td>15.695714</td>\n",
       "      <td>0.0</td>\n",
       "      <td>0.0</td>\n",
       "      <td>0.0</td>\n",
       "      <td>19</td>\n",
       "      <td>0.0</td>\n",
       "      <td>0</td>\n",
       "      <td>0.0</td>\n",
       "      <td>0.0</td>\n",
       "      <td>0.0</td>\n",
       "      <td>...</td>\n",
       "      <td>NaN</td>\n",
       "      <td>NaN</td>\n",
       "      <td>0.0</td>\n",
       "      <td>NaN</td>\n",
       "      <td>Tue Jan 01 00:00:00 EST 2013</td>\n",
       "      <td>Tue Jan 01 00:00:00 EST 2013</td>\n",
       "      <td>NaN</td>\n",
       "      <td>0</td>\n",
       "      <td>0</td>\n",
       "      <td>0</td>\n",
       "    </tr>\n",
       "    <tr>\n",
       "      <th>1</th>\n",
       "      <td>29.964545</td>\n",
       "      <td>0.0</td>\n",
       "      <td>0.0</td>\n",
       "      <td>0.0</td>\n",
       "      <td>9</td>\n",
       "      <td>0.0</td>\n",
       "      <td>0</td>\n",
       "      <td>0.0</td>\n",
       "      <td>0.0</td>\n",
       "      <td>0.0</td>\n",
       "      <td>...</td>\n",
       "      <td>NaN</td>\n",
       "      <td>NaN</td>\n",
       "      <td>0.0</td>\n",
       "      <td>NaN</td>\n",
       "      <td>Tue Jan 01 00:00:00 EST 2013</td>\n",
       "      <td>Tue Jan 01 00:00:00 EST 2013</td>\n",
       "      <td>NaN</td>\n",
       "      <td>0</td>\n",
       "      <td>0</td>\n",
       "      <td>0</td>\n",
       "    </tr>\n",
       "    <tr>\n",
       "      <th>2</th>\n",
       "      <td>12.207778</td>\n",
       "      <td>0.0</td>\n",
       "      <td>0.0</td>\n",
       "      <td>0.0</td>\n",
       "      <td>23</td>\n",
       "      <td>0.0</td>\n",
       "      <td>0</td>\n",
       "      <td>0.0</td>\n",
       "      <td>0.0</td>\n",
       "      <td>0.0</td>\n",
       "      <td>...</td>\n",
       "      <td>NaN</td>\n",
       "      <td>NaN</td>\n",
       "      <td>0.0</td>\n",
       "      <td>NaN</td>\n",
       "      <td>Tue Jan 01 00:00:00 EST 2013</td>\n",
       "      <td>Tue Jan 01 00:00:00 EST 2013</td>\n",
       "      <td>NaN</td>\n",
       "      <td>0</td>\n",
       "      <td>0</td>\n",
       "      <td>0</td>\n",
       "    </tr>\n",
       "    <tr>\n",
       "      <th>3</th>\n",
       "      <td>29.964545</td>\n",
       "      <td>0.0</td>\n",
       "      <td>0.0</td>\n",
       "      <td>0.0</td>\n",
       "      <td>10</td>\n",
       "      <td>0.0</td>\n",
       "      <td>0</td>\n",
       "      <td>0.0</td>\n",
       "      <td>0.0</td>\n",
       "      <td>0.0</td>\n",
       "      <td>...</td>\n",
       "      <td>NaN</td>\n",
       "      <td>NaN</td>\n",
       "      <td>0.0</td>\n",
       "      <td>NaN</td>\n",
       "      <td>Tue Jan 01 00:00:00 EST 2013</td>\n",
       "      <td>Tue Jan 01 00:00:00 EST 2013</td>\n",
       "      <td>NaN</td>\n",
       "      <td>0</td>\n",
       "      <td>0</td>\n",
       "      <td>0</td>\n",
       "    </tr>\n",
       "    <tr>\n",
       "      <th>4</th>\n",
       "      <td>17.347895</td>\n",
       "      <td>0.0</td>\n",
       "      <td>0.0</td>\n",
       "      <td>0.0</td>\n",
       "      <td>17</td>\n",
       "      <td>0.0</td>\n",
       "      <td>0</td>\n",
       "      <td>0.0</td>\n",
       "      <td>0.0</td>\n",
       "      <td>0.0</td>\n",
       "      <td>...</td>\n",
       "      <td>NaN</td>\n",
       "      <td>NaN</td>\n",
       "      <td>0.0</td>\n",
       "      <td>NaN</td>\n",
       "      <td>Tue Jan 01 00:00:00 EST 2013</td>\n",
       "      <td>Tue Jan 01 00:00:00 EST 2013</td>\n",
       "      <td>NaN</td>\n",
       "      <td>0</td>\n",
       "      <td>0</td>\n",
       "      <td>0</td>\n",
       "    </tr>\n",
       "  </tbody>\n",
       "</table>\n",
       "<p>5 rows × 83 columns</p>\n",
       "</div>"
      ],
      "text/plain": [
       "   barrels08  barrelsA08  charge120  charge240  city08  city08U  cityA08  \\\n",
       "0  15.695714         0.0        0.0        0.0      19      0.0        0   \n",
       "1  29.964545         0.0        0.0        0.0       9      0.0        0   \n",
       "2  12.207778         0.0        0.0        0.0      23      0.0        0   \n",
       "3  29.964545         0.0        0.0        0.0      10      0.0        0   \n",
       "4  17.347895         0.0        0.0        0.0      17      0.0        0   \n",
       "\n",
       "   cityA08U  cityCD  cityE  ...  mfrCode  c240Dscr  charge240b  c240bDscr  \\\n",
       "0       0.0     0.0    0.0  ...      NaN       NaN         0.0        NaN   \n",
       "1       0.0     0.0    0.0  ...      NaN       NaN         0.0        NaN   \n",
       "2       0.0     0.0    0.0  ...      NaN       NaN         0.0        NaN   \n",
       "3       0.0     0.0    0.0  ...      NaN       NaN         0.0        NaN   \n",
       "4       0.0     0.0    0.0  ...      NaN       NaN         0.0        NaN   \n",
       "\n",
       "                      createdOn                    modifiedOn  startStop  \\\n",
       "0  Tue Jan 01 00:00:00 EST 2013  Tue Jan 01 00:00:00 EST 2013        NaN   \n",
       "1  Tue Jan 01 00:00:00 EST 2013  Tue Jan 01 00:00:00 EST 2013        NaN   \n",
       "2  Tue Jan 01 00:00:00 EST 2013  Tue Jan 01 00:00:00 EST 2013        NaN   \n",
       "3  Tue Jan 01 00:00:00 EST 2013  Tue Jan 01 00:00:00 EST 2013        NaN   \n",
       "4  Tue Jan 01 00:00:00 EST 2013  Tue Jan 01 00:00:00 EST 2013        NaN   \n",
       "\n",
       "   phevCity  phevHwy  phevComb  \n",
       "0         0        0         0  \n",
       "1         0        0         0  \n",
       "2         0        0         0  \n",
       "3         0        0         0  \n",
       "4         0        0         0  \n",
       "\n",
       "[5 rows x 83 columns]"
      ]
     },
     "execution_count": 44,
     "metadata": {},
     "output_type": "execute_result"
    }
   ],
   "source": [
    "fueleco.head()"
   ]
  },
  {
   "cell_type": "code",
   "execution_count": 93,
   "id": "55425f07-e15f-437c-9ef8-5dde86e797b3",
   "metadata": {
    "tags": []
   },
   "outputs": [
    {
     "name": "stdout",
     "output_type": "stream",
     "text": [
      "<class 'pandas.core.frame.DataFrame'>\n",
      "RangeIndex: 43418 entries, 0 to 43417\n",
      "Data columns (total 84 columns):\n",
      " #   Column           Non-Null Count  Dtype  \n",
      "---  ------           --------------  -----  \n",
      " 0   barrels08        43418 non-null  float64\n",
      " 1   barrelsA08       43418 non-null  float64\n",
      " 2   charge120        43418 non-null  float64\n",
      " 3   charge240        43418 non-null  float64\n",
      " 4   city08           43418 non-null  int64  \n",
      " 5   city08U          43418 non-null  float64\n",
      " 6   cityA08          43418 non-null  int64  \n",
      " 7   cityA08U         43418 non-null  float64\n",
      " 8   cityCD           43418 non-null  float64\n",
      " 9   cityE            43418 non-null  float64\n",
      " 10  cityUF           43418 non-null  float64\n",
      " 11  co2              43418 non-null  int64  \n",
      " 12  co2A             43418 non-null  int64  \n",
      " 13  co2TailpipeAGpm  43418 non-null  float64\n",
      " 14  co2TailpipeGpm   43418 non-null  float64\n",
      " 15  comb08           43418 non-null  int64  \n",
      " 16  comb08U          43418 non-null  float64\n",
      " 17  combA08          43418 non-null  int64  \n",
      " 18  combA08U         43418 non-null  float64\n",
      " 19  combE            43418 non-null  float64\n",
      " 20  combinedCD       43418 non-null  float64\n",
      " 21  combinedUF       43418 non-null  float64\n",
      " 22  cylinders        43139 non-null  float64\n",
      " 23  displ            43141 non-null  float64\n",
      " 24  drive            42232 non-null  object \n",
      " 25  engId            43418 non-null  int64  \n",
      " 26  eng_dscr         26887 non-null  object \n",
      " 27  feScore          43418 non-null  int64  \n",
      " 28  fuelCost08       43418 non-null  int64  \n",
      " 29  fuelCostA08      43418 non-null  int64  \n",
      " 30  fuelType         43418 non-null  object \n",
      " 31  fuelType1        43418 non-null  object \n",
      " 32  ghgScore         43418 non-null  int64  \n",
      " 33  ghgScoreA        43418 non-null  int64  \n",
      " 34  highway08        43418 non-null  int64  \n",
      " 35  highway08U       43418 non-null  float64\n",
      " 36  highwayA08       43418 non-null  int64  \n",
      " 37  highwayA08U      43418 non-null  float64\n",
      " 38  highwayCD        43418 non-null  float64\n",
      " 39  highwayE         43418 non-null  float64\n",
      " 40  highwayUF        43418 non-null  float64\n",
      " 41  hlv              43418 non-null  int64  \n",
      " 42  hpv              43418 non-null  int64  \n",
      " 43  id               43418 non-null  int64  \n",
      " 44  lv2              43418 non-null  int64  \n",
      " 45  lv4              43418 non-null  int64  \n",
      " 46  make             43418 non-null  object \n",
      " 47  model            43418 non-null  object \n",
      " 48  mpgData          43400 non-null  object \n",
      " 49  phevBlended      43418 non-null  bool   \n",
      " 50  pv2              43418 non-null  int64  \n",
      " 51  pv4              43418 non-null  int64  \n",
      " 52  range            43418 non-null  int64  \n",
      " 53  rangeCity        43418 non-null  float64\n",
      " 54  rangeCityA       43418 non-null  float64\n",
      " 55  rangeHwy         43418 non-null  float64\n",
      " 56  rangeHwyA        43418 non-null  float64\n",
      " 57  trany            43407 non-null  object \n",
      " 58  UCity            43418 non-null  float64\n",
      " 59  UCityA           43418 non-null  float64\n",
      " 60  UHighway         43418 non-null  float64\n",
      " 61  UHighwayA        43418 non-null  float64\n",
      " 62  VClass           43418 non-null  object \n",
      " 63  year             43418 non-null  int64  \n",
      " 64  youSaveSpend     43418 non-null  int64  \n",
      " 65  guzzler          2558 non-null   object \n",
      " 66  trans_dscr       15044 non-null  object \n",
      " 67  tCharger         8143 non-null   object \n",
      " 68  sCharger         916 non-null    object \n",
      " 69  atvType          3987 non-null   object \n",
      " 70  fuelType2        1731 non-null   object \n",
      " 71  rangeA           1726 non-null   object \n",
      " 72  evMotor          1221 non-null   object \n",
      " 73  mfrCode          12610 non-null  object \n",
      " 74  c240Dscr         114 non-null    object \n",
      " 75  charge240b       43418 non-null  float64\n",
      " 76  c240bDscr        108 non-null    object \n",
      " 77  createdOn        43418 non-null  object \n",
      " 78  modifiedOn       43418 non-null  object \n",
      " 79  startStop        11729 non-null  object \n",
      " 80  phevCity         43418 non-null  int64  \n",
      " 81  phevHwy          43418 non-null  int64  \n",
      " 82  phevComb         43418 non-null  int64  \n",
      " 83  top              0 non-null      float64\n",
      "dtypes: bool(1), float64(33), int64(27), object(23)\n",
      "memory usage: 27.5+ MB\n"
     ]
    }
   ],
   "source": [
    "fueleco.info()"
   ]
  },
  {
   "cell_type": "code",
   "execution_count": 48,
   "id": "ec719c00-63b4-41c6-945e-65e782dc5d15",
   "metadata": {
    "scrolled": true,
    "tags": []
   },
   "outputs": [
    {
     "data": {
      "text/html": [
       "<div>\n",
       "<style scoped>\n",
       "    .dataframe tbody tr th:only-of-type {\n",
       "        vertical-align: middle;\n",
       "    }\n",
       "\n",
       "    .dataframe tbody tr th {\n",
       "        vertical-align: top;\n",
       "    }\n",
       "\n",
       "    .dataframe thead th {\n",
       "        text-align: right;\n",
       "    }\n",
       "</style>\n",
       "<table border=\"1\" class=\"dataframe\">\n",
       "  <thead>\n",
       "    <tr style=\"text-align: right;\">\n",
       "      <th></th>\n",
       "      <th>count</th>\n",
       "      <th>unique</th>\n",
       "      <th>top</th>\n",
       "      <th>freq</th>\n",
       "    </tr>\n",
       "  </thead>\n",
       "  <tbody>\n",
       "    <tr>\n",
       "      <th>drive</th>\n",
       "      <td>42232</td>\n",
       "      <td>7</td>\n",
       "      <td>Front-Wheel Drive</td>\n",
       "      <td>14776</td>\n",
       "    </tr>\n",
       "    <tr>\n",
       "      <th>eng_dscr</th>\n",
       "      <td>26887</td>\n",
       "      <td>562</td>\n",
       "      <td>(FFS)</td>\n",
       "      <td>8827</td>\n",
       "    </tr>\n",
       "    <tr>\n",
       "      <th>fuelType</th>\n",
       "      <td>43418</td>\n",
       "      <td>14</td>\n",
       "      <td>Regular</td>\n",
       "      <td>27381</td>\n",
       "    </tr>\n",
       "    <tr>\n",
       "      <th>fuelType1</th>\n",
       "      <td>43418</td>\n",
       "      <td>6</td>\n",
       "      <td>Regular Gasoline</td>\n",
       "      <td>28828</td>\n",
       "    </tr>\n",
       "    <tr>\n",
       "      <th>make</th>\n",
       "      <td>43418</td>\n",
       "      <td>139</td>\n",
       "      <td>Chevrolet</td>\n",
       "      <td>4159</td>\n",
       "    </tr>\n",
       "    <tr>\n",
       "      <th>model</th>\n",
       "      <td>43418</td>\n",
       "      <td>4375</td>\n",
       "      <td>F150 Pickup 2WD</td>\n",
       "      <td>226</td>\n",
       "    </tr>\n",
       "    <tr>\n",
       "      <th>mpgData</th>\n",
       "      <td>43400</td>\n",
       "      <td>2</td>\n",
       "      <td>N</td>\n",
       "      <td>29726</td>\n",
       "    </tr>\n",
       "    <tr>\n",
       "      <th>trany</th>\n",
       "      <td>43407</td>\n",
       "      <td>40</td>\n",
       "      <td>Automatic 4-spd</td>\n",
       "      <td>11048</td>\n",
       "    </tr>\n",
       "    <tr>\n",
       "      <th>VClass</th>\n",
       "      <td>43418</td>\n",
       "      <td>34</td>\n",
       "      <td>Compact Cars</td>\n",
       "      <td>6086</td>\n",
       "    </tr>\n",
       "    <tr>\n",
       "      <th>guzzler</th>\n",
       "      <td>2558</td>\n",
       "      <td>3</td>\n",
       "      <td>G</td>\n",
       "      <td>1579</td>\n",
       "    </tr>\n",
       "    <tr>\n",
       "      <th>trans_dscr</th>\n",
       "      <td>15044</td>\n",
       "      <td>52</td>\n",
       "      <td>CLKUP</td>\n",
       "      <td>7809</td>\n",
       "    </tr>\n",
       "    <tr>\n",
       "      <th>tCharger</th>\n",
       "      <td>8143</td>\n",
       "      <td>1</td>\n",
       "      <td>T</td>\n",
       "      <td>8143</td>\n",
       "    </tr>\n",
       "    <tr>\n",
       "      <th>sCharger</th>\n",
       "      <td>916</td>\n",
       "      <td>1</td>\n",
       "      <td>S</td>\n",
       "      <td>916</td>\n",
       "    </tr>\n",
       "    <tr>\n",
       "      <th>atvType</th>\n",
       "      <td>3987</td>\n",
       "      <td>8</td>\n",
       "      <td>FFV</td>\n",
       "      <td>1479</td>\n",
       "    </tr>\n",
       "    <tr>\n",
       "      <th>fuelType2</th>\n",
       "      <td>1731</td>\n",
       "      <td>4</td>\n",
       "      <td>E85</td>\n",
       "      <td>1479</td>\n",
       "    </tr>\n",
       "    <tr>\n",
       "      <th>rangeA</th>\n",
       "      <td>1726</td>\n",
       "      <td>235</td>\n",
       "      <td>290</td>\n",
       "      <td>74</td>\n",
       "    </tr>\n",
       "    <tr>\n",
       "      <th>evMotor</th>\n",
       "      <td>1221</td>\n",
       "      <td>211</td>\n",
       "      <td>288V Ni-MH</td>\n",
       "      <td>138</td>\n",
       "    </tr>\n",
       "    <tr>\n",
       "      <th>mfrCode</th>\n",
       "      <td>12610</td>\n",
       "      <td>50</td>\n",
       "      <td>GMX</td>\n",
       "      <td>1802</td>\n",
       "    </tr>\n",
       "    <tr>\n",
       "      <th>c240Dscr</th>\n",
       "      <td>114</td>\n",
       "      <td>5</td>\n",
       "      <td>standard charger</td>\n",
       "      <td>103</td>\n",
       "    </tr>\n",
       "    <tr>\n",
       "      <th>c240bDscr</th>\n",
       "      <td>108</td>\n",
       "      <td>7</td>\n",
       "      <td>80 amp dual charger</td>\n",
       "      <td>55</td>\n",
       "    </tr>\n",
       "    <tr>\n",
       "      <th>createdOn</th>\n",
       "      <td>43418</td>\n",
       "      <td>356</td>\n",
       "      <td>Tue Jan 01 00:00:00 EST 2013</td>\n",
       "      <td>34194</td>\n",
       "    </tr>\n",
       "    <tr>\n",
       "      <th>modifiedOn</th>\n",
       "      <td>43418</td>\n",
       "      <td>218</td>\n",
       "      <td>Tue Jan 01 00:00:00 EST 2013</td>\n",
       "      <td>29175</td>\n",
       "    </tr>\n",
       "    <tr>\n",
       "      <th>startStop</th>\n",
       "      <td>11729</td>\n",
       "      <td>2</td>\n",
       "      <td>N</td>\n",
       "      <td>7146</td>\n",
       "    </tr>\n",
       "  </tbody>\n",
       "</table>\n",
       "</div>"
      ],
      "text/plain": [
       "            count unique                           top   freq\n",
       "drive       42232      7             Front-Wheel Drive  14776\n",
       "eng_dscr    26887    562                         (FFS)   8827\n",
       "fuelType    43418     14                       Regular  27381\n",
       "fuelType1   43418      6              Regular Gasoline  28828\n",
       "make        43418    139                     Chevrolet   4159\n",
       "model       43418   4375               F150 Pickup 2WD    226\n",
       "mpgData     43400      2                             N  29726\n",
       "trany       43407     40               Automatic 4-spd  11048\n",
       "VClass      43418     34                  Compact Cars   6086\n",
       "guzzler      2558      3                             G   1579\n",
       "trans_dscr  15044     52                         CLKUP   7809\n",
       "tCharger     8143      1                             T   8143\n",
       "sCharger      916      1                             S    916\n",
       "atvType      3987      8                           FFV   1479\n",
       "fuelType2    1731      4                           E85   1479\n",
       "rangeA       1726    235                           290     74\n",
       "evMotor      1221    211                    288V Ni-MH    138\n",
       "mfrCode     12610     50                           GMX   1802\n",
       "c240Dscr      114      5              standard charger    103\n",
       "c240bDscr     108      7           80 amp dual charger     55\n",
       "createdOn   43418    356  Tue Jan 01 00:00:00 EST 2013  34194\n",
       "modifiedOn  43418    218  Tue Jan 01 00:00:00 EST 2013  29175\n",
       "startStop   11729      2                             N   7146"
      ]
     },
     "execution_count": 48,
     "metadata": {},
     "output_type": "execute_result"
    }
   ],
   "source": [
    "fueleco.describe(include = a'object').T"
   ]
  },
  {
   "cell_type": "code",
   "execution_count": 50,
   "id": "b65c4e7c-8b63-4431-a90a-8c5d544a9773",
   "metadata": {},
   "outputs": [
    {
     "name": "stderr",
     "output_type": "stream",
     "text": [
      "C:\\Users\\user\\anaconda3\\lib\\site-packages\\seaborn\\_decorators.py:36: FutureWarning: Pass the following variables as keyword args: x, y. From version 0.12, the only valid positional argument will be `data`, and passing other arguments without an explicit keyword will result in an error or misinterpretation.\n",
      "  warnings.warn(\n"
     ]
    },
    {
     "data": {
      "image/png": "[encoded data removed]",
      "text/plain": [
       "<Figure size 720x576 with 1 Axes>"
      ]
     },
     "metadata": {
      "needs_background": "light"
     },
     "output_type": "display_data"
    }
   ],
   "source": [
    "fig, ax = plt.subplots(figsize = (10, 8))\n",
    "sns.barplot(fueleco['fuelType'].value_counts().index, fueleco['fuelType'].value_counts())\n",
    "plt.xticks(rotation = 90)\n",
    "plt.show()"
   ]
  },
  {
   "cell_type": "code",
   "execution_count": 51,
   "id": "95ebc92a-6c99-450f-9d27-570bbe12fd70",
   "metadata": {},
   "outputs": [
    {
     "name": "stderr",
     "output_type": "stream",
     "text": [
      "C:\\Users\\user\\anaconda3\\lib\\site-packages\\seaborn\\_decorators.py:36: FutureWarning: Pass the following variables as keyword args: x, y. From version 0.12, the only valid positional argument will be `data`, and passing other arguments without an explicit keyword will result in an error or misinterpretation.\n",
      "  warnings.warn(\n"
     ]
    },
    {
     "data": {
      "image/png": "[encoded data removed]",
      "text/plain": [
       "<Figure size 720x576 with 1 Axes>"
      ]
     },
     "metadata": {
      "needs_background": "light"
     },
     "output_type": "display_data"
    }
   ],
   "source": [
    "fig, ax = plt.subplots(figsize = (10, 8))\n",
    "sns.barplot(fueleco['fuelType1'].value_counts().index, fueleco['fuelType1'].value_counts())\n",
    "plt.xticks(rotation = 90)\n",
    "plt.show()"
   ]
  },
  {
   "cell_type": "code",
   "execution_count": 89,
   "id": "f086e8a5-6530-40ed-b66c-8ee4c1cd47f6",
   "metadata": {},
   "outputs": [
    {
     "data": {
      "text/plain": [
       "<AxesSubplot:>"
      ]
     },
     "execution_count": 89,
     "metadata": {},
     "output_type": "execute_result"
    },
    {
     "data": {
      "image/png": "[encoded data removed]",
      "text/plain": [
       "<Figure size 720x576 with 1 Axes>"
      ]
     },
     "metadata": {
      "needs_background": "light"
     },
     "output_type": "display_data"
    }
   ],
   "source": [
    "fig, ax = plt.subplots(figsize = (10, 8))\n",
    "\n",
    "top_n = fueleco['fuelType1'].value_counts().index[:4]\n",
    "(\n",
    "    fueleco.assign(\n",
    "        make = fueleco['fuelType1'].where(\n",
    "            fueleco['fuelType1'].isin(top_n), 'Other'))\n",
    "    .make.value_counts()[:]\n",
    "    .plot.bar(ax = ax)\n",
    ")\n"
   ]
  },
  {
   "cell_type": "code",
   "execution_count": 112,
   "id": "06f002bd-9544-47ba-80cb-e4bf96742881",
   "metadata": {},
   "outputs": [
    {
     "data": {
      "text/plain": [
       "<AxesSubplot:xlabel='count', ylabel='fuelType'>"
      ]
     },
     "execution_count": 112,
     "metadata": {},
     "output_type": "execute_result"
    },
    {
     "data": {
      "image/png": "[encoded data removed]",
      "text/plain": [
       "<Figure size 720x576 with 1 Axes>"
      ]
     },
     "metadata": {
      "needs_background": "light"
     },
     "output_type": "display_data"
    }
   ],
   "source": [
    "fig, ax = plt.subplots(figsize = (10, 8))\n",
    "\n",
    "top_n = fueleco.fuelType.value_counts().index[:5]\n",
    "\n",
    "sns.countplot(y = 'fuelType',\n",
    "              data = fueleco[fueleco.fuelType.isin(top_n)]\n",
    "              , hue = 'drive', order = fueleco.fuelType.value_counts().index[:5]\n",
    "             )"
   ]
  },
  {
   "cell_type": "code",
   "execution_count": 114,
   "id": "246c5832-11ae-483b-ab25-9cadd1e537d2",
   "metadata": {},
   "outputs": [
    {
     "data": {
      "text/plain": [
       "<AxesSubplot:xlabel='drive', ylabel='Count'>"
      ]
     },
     "execution_count": 114,
     "metadata": {},
     "output_type": "execute_result"
    },
    {
     "data": {
      "image/png": "[encoded data removed]",
      "text/plain": [
       "<Figure size 720x576 with 1 Axes>"
      ]
     },
     "metadata": {
      "needs_background": "light"
     },
     "output_type": "display_data"
    }
   ],
   "source": [
    "fig, ax = plt.subplots(figsize = (10, 8))\n",
    "\n",
    "top_n = fueleco.fuelType.value_counts().index[:3]\n",
    "\n",
    "sns.histplot(x = 'drive',\n",
    "             data = fueleco[fueleco.fuelType.isin(top_n)], hue = 'fuelType', binwidth = 1,\n",
    "             ax = ax)\n"
   ]
  },
  {
   "cell_type": "code",
   "execution_count": 125,
   "id": "3c7facb5-61c1-483a-befe-9a856d1b67ba",
   "metadata": {},
   "outputs": [
    {
     "data": {
      "text/html": [
       "<div>\n",
       "<style scoped>\n",
       "    .dataframe tbody tr th:only-of-type {\n",
       "        vertical-align: middle;\n",
       "    }\n",
       "\n",
       "    .dataframe tbody tr th {\n",
       "        vertical-align: top;\n",
       "    }\n",
       "\n",
       "    .dataframe thead th {\n",
       "        text-align: right;\n",
       "    }\n",
       "</style>\n",
       "<table border=\"1\" class=\"dataframe\">\n",
       "  <thead>\n",
       "    <tr style=\"text-align: right;\">\n",
       "      <th></th>\n",
       "      <th>mean</th>\n",
       "      <th>std</th>\n",
       "      <th>min</th>\n",
       "      <th>max</th>\n",
       "    </tr>\n",
       "    <tr>\n",
       "      <th>make</th>\n",
       "      <th></th>\n",
       "      <th></th>\n",
       "      <th></th>\n",
       "      <th></th>\n",
       "    </tr>\n",
       "  </thead>\n",
       "  <tbody>\n",
       "    <tr>\n",
       "      <th>Ford</th>\n",
       "      <td>17.298746</td>\n",
       "      <td>7.646095</td>\n",
       "      <td>9</td>\n",
       "      <td>118</td>\n",
       "    </tr>\n",
       "    <tr>\n",
       "      <th>Tesla</th>\n",
       "      <td>103.648148</td>\n",
       "      <td>17.129149</td>\n",
       "      <td>80</td>\n",
       "      <td>150</td>\n",
       "    </tr>\n",
       "    <tr>\n",
       "      <th>Toyota</th>\n",
       "      <td>20.974874</td>\n",
       "      <td>8.161689</td>\n",
       "      <td>10</td>\n",
       "      <td>87</td>\n",
       "    </tr>\n",
       "    <tr>\n",
       "      <th>Volkswagen</th>\n",
       "      <td>21.972200</td>\n",
       "      <td>8.879492</td>\n",
       "      <td>11</td>\n",
       "      <td>126</td>\n",
       "    </tr>\n",
       "  </tbody>\n",
       "</table>\n",
       "</div>"
      ],
      "text/plain": [
       "                  mean        std  min  max\n",
       "make                                       \n",
       "Ford         17.298746   7.646095    9  118\n",
       "Tesla       103.648148  17.129149   80  150\n",
       "Toyota       20.974874   8.161689   10   87\n",
       "Volkswagen   21.972200   8.879492   11  126"
      ]
     },
     "execution_count": 125,
     "metadata": {},
     "output_type": "execute_result"
    }
   ],
   "source": [
    "mask = fueleco.make.isin(['Ford', 'Toyota', 'Volkswagen', 'Tesla'])\n",
    "fueleco[mask].groupby('make').city08.agg(['mean', 'std', 'min', 'max'])"
   ]
  },
  {
   "cell_type": "code",
   "execution_count": 126,
   "id": "8d1ee2db-bf8b-400e-b83b-4657e5b9282f",
   "metadata": {},
   "outputs": [
    {
     "data": {
      "text/plain": [
       "<seaborn.axisgrid.FacetGrid at 0x16bf947d0a0>"
      ]
     },
     "execution_count": 126,
     "metadata": {},
     "output_type": "execute_result"
    },
    {
     "data": {
      "image/png": "[encoded data removed]",
      "text/plain": [
       "<Figure size 360x360 with 1 Axes>"
      ]
     },
     "metadata": {
      "needs_background": "light"
     },
     "output_type": "display_data"
    }
   ],
   "source": [
    "sns.catplot(x = 'make', y = 'city08', data = fueleco[mask], kind = 'box')"
   ]
  },
  {
   "cell_type": "code",
   "execution_count": 127,
   "id": "6686fdd0-e0fb-4760-a600-2664edb905f9",
   "metadata": {},
   "outputs": [
    {
     "data": {
      "text/plain": [
       "drive\n",
       "2-Wheel Drive                  133\n",
       "4-Wheel Drive                   48\n",
       "4-Wheel or All-Wheel Drive    1071\n",
       "All-Wheel Drive                427\n",
       "Front-Wheel Drive             2871\n",
       "Part-time 4-Wheel Drive        257\n",
       "Rear-Wheel Drive              2029\n",
       "Name: city08, dtype: int64"
      ]
     },
     "execution_count": 127,
     "metadata": {},
     "output_type": "execute_result"
    }
   ],
   "source": [
    "fueleco[mask].groupby('drive').city08.count()"
   ]
  },
  {
   "cell_type": "code",
   "execution_count": 136,
   "id": "2fe24e87-b52e-445a-9666-30ec580ad630",
   "metadata": {},
   "outputs": [
    {
     "data": {
      "text/plain": [
       "<seaborn.axisgrid.FacetGrid at 0x16bfd0bf430>"
      ]
     },
     "execution_count": 136,
     "metadata": {},
     "output_type": "execute_result"
    },
    {
     "data": {
      "image/png": "[encoded data removed]",
      "text/plain": [
       "<Figure size 720x720 with 4 Axes>"
      ]
     },
     "metadata": {
      "needs_background": "light"
     },
     "output_type": "display_data"
    }
   ],
   "source": [
    "sns.catplot(x = 'city08', y = 'make', data = fueleco[mask], kind = 'box',\n",
    "            col = 'year', col_order = [2012, 2014, 2016, 2018],\n",
    "            col_wrap = 2)"
   ]
  },
  {
   "cell_type": "code",
   "execution_count": 150,
   "id": "c22092d8-2c60-4482-a48f-aedbce8ff8bc",
   "metadata": {},
   "outputs": [
    {
     "data": {
      "text/plain": [
       "<AxesSubplot:>"
      ]
     },
     "execution_count": 150,
     "metadata": {},
     "output_type": "execute_result"
    },
    {
     "data": {
      "image/png": "[encoded data removed]",
      "text/plain": [
       "<Figure size 720x576 with 2 Axes>"
      ]
     },
     "metadata": {
      "needs_background": "light"
     },
     "output_type": "display_data"
    }
   ],
   "source": [
    "fig, ax = plt.subplots(figsize = (10, 8))\n",
    "\n",
    "corr = fueleco[['barrels08', 'phevCity', 'city08', 'highway08', 'cylinders']].corr()\n",
    "\n",
    "mask = np.zeros_like(corr, dtype = bool)\n",
    "mask[np.triu_indices_from(mask)] = True\n",
    "\n",
    "sns.heatmap(corr, \n",
    "            mask = mask,\n",
    "            fmt = '.3f',\n",
    "            annot = True,\n",
    "            ax = ax,\n",
    "            cmap = 'YlGnBu',\n",
    "            vmin = -1,\n",
    "            vmax = 1,\n",
    "            square = True)"
   ]
  },
  {
   "cell_type": "code",
   "execution_count": null,
   "id": "05eedef4-1f17-4658-903a-271a999882e3",
   "metadata": {},
   "outputs": [],
   "source": []
  }
 ],
 "metadata": {
  "kernelspec": {
   "display_name": "Python 3 (ipykernel)",
   "language": "python",
   "name": "python3"
  },
  "language_info": {
   "codemirror_mode": {
    "name": "ipython",
    "version": 3
   },
   "file_extension": ".py",
   "mimetype": "text/x-python",
   "name": "python",
   "nbconvert_exporter": "python",
   "pygments_lexer": "ipython3",
   "version": "3.9.7"
  }
 },
 "nbformat": 4,
 "nbformat_minor": 5
}
