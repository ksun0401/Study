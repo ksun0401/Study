{
  "nbformat": 4,
  "nbformat_minor": 0,
  "metadata": {
    "colab": {
      "name": "House_price_pred.ipynb",
      "provenance": [],
      "collapsed_sections": []
    },
    "kernelspec": {
      "name": "python3",
      "display_name": "Python 3"
    },
    "language_info": {
      "name": "python"
    }
  },
  "cells": [
    {
      "cell_type": "markdown",
      "source": [
        "#데이콘 집 Basic 값 예측 경진대회\n",
        "##### 처음에는 RandomForest, Gradient Boost, XGBoost, LigthGBM, CatBoost의 모델들을 Optuna를 통해 하이퍼 파라미터를 찾아 교차 검증해 보고, Stacking ensemble도 해보았지만 대부분의 모델이 Overfitting이 발생했습니다.\n",
        "> 실험 해본 모델 중 **Catboost**가 점수가 높아, 간단한 파라미터 조정 후 OOF 앙상블 진행  \n",
        "> **Public: 0.095 (44등), Private: 0.0995점 (7등)**\n",
        "##### 좋은 기법으로 모델을 구현하는 것도 중요하지만 다른 분들의 코드를 보니 EDA를 통해 데이터의 특징과 의미를 얻는 것이 제일 중요하다고 느끼게 되었습니다.\n",
        "##### 또한 Public과 Private의 등수 차이가 많이 커서 어떠한 이유로 발생했는지 생각 해 보는 시간이 필요할 거 같습니다.\n"
      ],
      "metadata": {
        "id": "YrUnqn3EWZan"
      }
    },
    {
      "cell_type": "code",
      "execution_count": null,
      "metadata": {
        "id": "fth0eozSfjP4",
        "colab": {
          "base_uri": "https://localhost:8080/"
        },
        "outputId": "4b837133-0bcb-4386-e33b-81184f433338"
      },
      "outputs": [
        {
          "output_type": "stream",
          "name": "stdout",
          "text": [
            "Requirement already satisfied: catboost in /usr/local/lib/python3.7/dist-packages (1.0.4)\n",
            "Requirement already satisfied: pandas>=0.24.0 in /usr/local/lib/python3.7/dist-packages (from catboost) (1.3.5)\n",
            "Requirement already satisfied: six in /usr/local/lib/python3.7/dist-packages (from catboost) (1.15.0)\n",
            "Requirement already satisfied: scipy in /usr/local/lib/python3.7/dist-packages (from catboost) (1.4.1)\n",
            "Requirement already satisfied: plotly in /usr/local/lib/python3.7/dist-packages (from catboost) (5.5.0)\n",
            "Requirement already satisfied: matplotlib in /usr/local/lib/python3.7/dist-packages (from catboost) (3.2.2)\n",
            "Requirement already satisfied: numpy>=1.16.0 in /usr/local/lib/python3.7/dist-packages (from catboost) (1.19.5)\n",
            "Requirement already satisfied: graphviz in /usr/local/lib/python3.7/dist-packages (from catboost) (0.10.1)\n",
            "Requirement already satisfied: python-dateutil>=2.7.3 in /usr/local/lib/python3.7/dist-packages (from pandas>=0.24.0->catboost) (2.8.2)\n",
            "Requirement already satisfied: pytz>=2017.3 in /usr/local/lib/python3.7/dist-packages (from pandas>=0.24.0->catboost) (2018.9)\n",
            "Requirement already satisfied: pyparsing!=2.0.4,!=2.1.2,!=2.1.6,>=2.0.1 in /usr/local/lib/python3.7/dist-packages (from matplotlib->catboost) (3.0.7)\n",
            "Requirement already satisfied: kiwisolver>=1.0.1 in /usr/local/lib/python3.7/dist-packages (from matplotlib->catboost) (1.3.2)\n",
            "Requirement already satisfied: cycler>=0.10 in /usr/local/lib/python3.7/dist-packages (from matplotlib->catboost) (0.11.0)\n",
            "Requirement already satisfied: tenacity>=6.2.0 in /usr/local/lib/python3.7/dist-packages (from plotly->catboost) (8.0.1)\n"
          ]
        }
      ],
      "source": [
        "!pip install catboost"
      ]
    },
    {
      "cell_type": "code",
      "source": [
        "import pandas as pd\n",
        "import numpy as np\n",
        "import matplotlib.pyplot as plt\n",
        "import seaborn as sns\n",
        "from sklearn.preprocessing import LabelEncoder\n",
        "\n",
        "def NMAE(true, pred):\n",
        "    mae = np.mean(np.abs(true-pred))\n",
        "    score = mae / np.mean(np.abs(true))\n",
        "    return score\n",
        "\n",
        "train = pd.read_csv('/content/drive/MyDrive/data/dacon/basic/train.csv')\n",
        "test = pd.read_csv('/content/drive/MyDrive/data/dacon/basic/test.csv')"
      ],
      "metadata": {
        "id": "G5sZ9o59fnE5"
      },
      "execution_count": null,
      "outputs": []
    },
    {
      "cell_type": "markdown",
      "source": [
        "##Feature\n",
        ">id: 데이터 고유<br>\n",
        "OverallQual: 전반적 재료, 마감 품질<br>\n",
        "YearBuilt: 완공 연도<br>\n",
        "YearRemodAdd: 리모델링 연도<br>\n",
        "ExterQual: 외관 재료 품질<br>\n",
        "BsmtQual: 지하실 높이<br>\n",
        "TotalBsmtSF: 지하실 면적<br>\n",
        "1stFlrSF: 1층 면적<br>\n",
        "GrLivArea: 지상층 생활 면적<br>\n",
        "FullBath: 지상층 화장실 개수<br>\n",
        "KitchenQual: 부억 품질<br>\n",
        "GarageYrBlt: 차고 완공 연도<br>\n",
        "GarageCars: 차고 자리 개수<br>\n",
        "GarageArea: 차고 면적<br>\n",
        "target: 집값(달러 단위)<br>"
      ],
      "metadata": {
        "id": "oMjmX6qyNMQS"
      }
    },
    {
      "cell_type": "code",
      "source": [
        "train.head()"
      ],
      "metadata": {
        "id": "DEnQXatngVV0",
        "colab": {
          "base_uri": "https://localhost:8080/",
          "height": 267
        },
        "outputId": "fbd45983-0d17-4179-a926-3e16fe2bef56"
      },
      "execution_count": null,
      "outputs": [
        {
          "output_type": "execute_result",
          "data": {
            "text/html": [
              "\n",
              "  <div id=\"df-c3589b3e-5343-4f37-9b58-b0bb528ffb52\">\n",
              "    <div class=\"colab-df-container\">\n",
              "      <div>\n",
              "<style scoped>\n",
              "    .dataframe tbody tr th:only-of-type {\n",
              "        vertical-align: middle;\n",
              "    }\n",
              "\n",
              "    .dataframe tbody tr th {\n",
              "        vertical-align: top;\n",
              "    }\n",
              "\n",
              "    .dataframe thead th {\n",
              "        text-align: right;\n",
              "    }\n",
              "</style>\n",
              "<table border=\"1\" class=\"dataframe\">\n",
              "  <thead>\n",
              "    <tr style=\"text-align: right;\">\n",
              "      <th></th>\n",
              "      <th>id</th>\n",
              "      <th>Overall Qual</th>\n",
              "      <th>Gr Liv Area</th>\n",
              "      <th>Exter Qual</th>\n",
              "      <th>Garage Cars</th>\n",
              "      <th>Garage Area</th>\n",
              "      <th>Kitchen Qual</th>\n",
              "      <th>Total Bsmt SF</th>\n",
              "      <th>1st Flr SF</th>\n",
              "      <th>Bsmt Qual</th>\n",
              "      <th>Full Bath</th>\n",
              "      <th>Year Built</th>\n",
              "      <th>Year Remod/Add</th>\n",
              "      <th>Garage Yr Blt</th>\n",
              "      <th>target</th>\n",
              "    </tr>\n",
              "  </thead>\n",
              "  <tbody>\n",
              "    <tr>\n",
              "      <th>0</th>\n",
              "      <td>1</td>\n",
              "      <td>10</td>\n",
              "      <td>2392</td>\n",
              "      <td>Ex</td>\n",
              "      <td>3</td>\n",
              "      <td>968</td>\n",
              "      <td>Ex</td>\n",
              "      <td>2392</td>\n",
              "      <td>2392</td>\n",
              "      <td>Ex</td>\n",
              "      <td>2</td>\n",
              "      <td>2003</td>\n",
              "      <td>2003</td>\n",
              "      <td>2003</td>\n",
              "      <td>386250</td>\n",
              "    </tr>\n",
              "    <tr>\n",
              "      <th>1</th>\n",
              "      <td>2</td>\n",
              "      <td>7</td>\n",
              "      <td>1352</td>\n",
              "      <td>Gd</td>\n",
              "      <td>2</td>\n",
              "      <td>466</td>\n",
              "      <td>Gd</td>\n",
              "      <td>1352</td>\n",
              "      <td>1352</td>\n",
              "      <td>Ex</td>\n",
              "      <td>2</td>\n",
              "      <td>2006</td>\n",
              "      <td>2007</td>\n",
              "      <td>2006</td>\n",
              "      <td>194000</td>\n",
              "    </tr>\n",
              "    <tr>\n",
              "      <th>2</th>\n",
              "      <td>3</td>\n",
              "      <td>5</td>\n",
              "      <td>900</td>\n",
              "      <td>TA</td>\n",
              "      <td>1</td>\n",
              "      <td>288</td>\n",
              "      <td>TA</td>\n",
              "      <td>864</td>\n",
              "      <td>900</td>\n",
              "      <td>TA</td>\n",
              "      <td>1</td>\n",
              "      <td>1967</td>\n",
              "      <td>1967</td>\n",
              "      <td>1967</td>\n",
              "      <td>123000</td>\n",
              "    </tr>\n",
              "    <tr>\n",
              "      <th>3</th>\n",
              "      <td>4</td>\n",
              "      <td>5</td>\n",
              "      <td>1174</td>\n",
              "      <td>TA</td>\n",
              "      <td>2</td>\n",
              "      <td>576</td>\n",
              "      <td>Gd</td>\n",
              "      <td>680</td>\n",
              "      <td>680</td>\n",
              "      <td>TA</td>\n",
              "      <td>1</td>\n",
              "      <td>1900</td>\n",
              "      <td>2006</td>\n",
              "      <td>2000</td>\n",
              "      <td>135000</td>\n",
              "    </tr>\n",
              "    <tr>\n",
              "      <th>4</th>\n",
              "      <td>5</td>\n",
              "      <td>7</td>\n",
              "      <td>1958</td>\n",
              "      <td>Gd</td>\n",
              "      <td>3</td>\n",
              "      <td>936</td>\n",
              "      <td>Gd</td>\n",
              "      <td>1026</td>\n",
              "      <td>1026</td>\n",
              "      <td>Gd</td>\n",
              "      <td>2</td>\n",
              "      <td>2005</td>\n",
              "      <td>2005</td>\n",
              "      <td>2005</td>\n",
              "      <td>250000</td>\n",
              "    </tr>\n",
              "  </tbody>\n",
              "</table>\n",
              "</div>\n",
              "      <button class=\"colab-df-convert\" onclick=\"convertToInteractive('df-c3589b3e-5343-4f37-9b58-b0bb528ffb52')\"\n",
              "              title=\"Convert this dataframe to an interactive table.\"\n",
              "              style=\"display:none;\">\n",
              "        \n",
              "  <svg xmlns=\"http://www.w3.org/2000/svg\" height=\"24px\"viewBox=\"0 0 24 24\"\n",
              "       width=\"24px\">\n",
              "    <path d=\"M0 0h24v24H0V0z\" fill=\"none\"/>\n",
              "    <path d=\"M18.56 5.44l.94 2.06.94-2.06 2.06-.94-2.06-.94-.94-2.06-.94 2.06-2.06.94zm-11 1L8.5 8.5l.94-2.06 2.06-.94-2.06-.94L8.5 2.5l-.94 2.06-2.06.94zm10 10l.94 2.06.94-2.06 2.06-.94-2.06-.94-.94-2.06-.94 2.06-2.06.94z\"/><path d=\"M17.41 7.96l-1.37-1.37c-.4-.4-.92-.59-1.43-.59-.52 0-1.04.2-1.43.59L10.3 9.45l-7.72 7.72c-.78.78-.78 2.05 0 2.83L4 21.41c.39.39.9.59 1.41.59.51 0 1.02-.2 1.41-.59l7.78-7.78 2.81-2.81c.8-.78.8-2.07 0-2.86zM5.41 20L4 18.59l7.72-7.72 1.47 1.35L5.41 20z\"/>\n",
              "  </svg>\n",
              "      </button>\n",
              "      \n",
              "  <style>\n",
              "    .colab-df-container {\n",
              "      display:flex;\n",
              "      flex-wrap:wrap;\n",
              "      gap: 12px;\n",
              "    }\n",
              "\n",
              "    .colab-df-convert {\n",
              "      background-color: #E8F0FE;\n",
              "      border: none;\n",
              "      border-radius: 50%;\n",
              "      cursor: pointer;\n",
              "      display: none;\n",
              "      fill: #1967D2;\n",
              "      height: 32px;\n",
              "      padding: 0 0 0 0;\n",
              "      width: 32px;\n",
              "    }\n",
              "\n",
              "    .colab-df-convert:hover {\n",
              "      background-color: #E2EBFA;\n",
              "      box-shadow: 0px 1px 2px rgba(60, 64, 67, 0.3), 0px 1px 3px 1px rgba(60, 64, 67, 0.15);\n",
              "      fill: #174EA6;\n",
              "    }\n",
              "\n",
              "    [theme=dark] .colab-df-convert {\n",
              "      background-color: #3B4455;\n",
              "      fill: #D2E3FC;\n",
              "    }\n",
              "\n",
              "    [theme=dark] .colab-df-convert:hover {\n",
              "      background-color: #434B5C;\n",
              "      box-shadow: 0px 1px 3px 1px rgba(0, 0, 0, 0.15);\n",
              "      filter: drop-shadow(0px 1px 2px rgba(0, 0, 0, 0.3));\n",
              "      fill: #FFFFFF;\n",
              "    }\n",
              "  </style>\n",
              "\n",
              "      <script>\n",
              "        const buttonEl =\n",
              "          document.querySelector('#df-c3589b3e-5343-4f37-9b58-b0bb528ffb52 button.colab-df-convert');\n",
              "        buttonEl.style.display =\n",
              "          google.colab.kernel.accessAllowed ? 'block' : 'none';\n",
              "\n",
              "        async function convertToInteractive(key) {\n",
              "          const element = document.querySelector('#df-c3589b3e-5343-4f37-9b58-b0bb528ffb52');\n",
              "          const dataTable =\n",
              "            await google.colab.kernel.invokeFunction('convertToInteractive',\n",
              "                                                     [key], {});\n",
              "          if (!dataTable) return;\n",
              "\n",
              "          const docLinkHtml = 'Like what you see? Visit the ' +\n",
              "            '<a target=\"_blank\" href=https://colab.research.google.com/notebooks/data_table.ipynb>data table notebook</a>'\n",
              "            + ' to learn more about interactive tables.';\n",
              "          element.innerHTML = '';\n",
              "          dataTable['output_type'] = 'display_data';\n",
              "          await google.colab.output.renderOutput(dataTable, element);\n",
              "          const docLink = document.createElement('div');\n",
              "          docLink.innerHTML = docLinkHtml;\n",
              "          element.appendChild(docLink);\n",
              "        }\n",
              "      </script>\n",
              "    </div>\n",
              "  </div>\n",
              "  "
            ],
            "text/plain": [
              "   id  Overall Qual  Gr Liv Area  ... Year Remod/Add  Garage Yr Blt  target\n",
              "0   1            10         2392  ...           2003           2003  386250\n",
              "1   2             7         1352  ...           2007           2006  194000\n",
              "2   3             5          900  ...           1967           1967  123000\n",
              "3   4             5         1174  ...           2006           2000  135000\n",
              "4   5             7         1958  ...           2005           2005  250000\n",
              "\n",
              "[5 rows x 15 columns]"
            ]
          },
          "metadata": {},
          "execution_count": 109
        }
      ]
    },
    {
      "cell_type": "markdown",
      "source": [
        "결측치 확인"
      ],
      "metadata": {
        "id": "S4zisEdbgDvT"
      }
    },
    {
      "cell_type": "code",
      "source": [
        "train.isnull().sum()"
      ],
      "metadata": {
        "id": "y4chs8RyF7UQ",
        "colab": {
          "base_uri": "https://localhost:8080/"
        },
        "outputId": "df113cf9-c1dc-4a7d-bc79-0a5e9c928275"
      },
      "execution_count": null,
      "outputs": [
        {
          "output_type": "execute_result",
          "data": {
            "text/plain": [
              "id                0\n",
              "Overall Qual      0\n",
              "Gr Liv Area       0\n",
              "Exter Qual        0\n",
              "Garage Cars       0\n",
              "Garage Area       0\n",
              "Kitchen Qual      0\n",
              "Total Bsmt SF     0\n",
              "1st Flr SF        0\n",
              "Bsmt Qual         0\n",
              "Full Bath         0\n",
              "Year Built        0\n",
              "Year Remod/Add    0\n",
              "Garage Yr Blt     0\n",
              "target            0\n",
              "dtype: int64"
            ]
          },
          "metadata": {},
          "execution_count": 110
        }
      ]
    },
    {
      "cell_type": "code",
      "source": [
        "test.isnull().sum()"
      ],
      "metadata": {
        "id": "dYBCZubfF_L0",
        "colab": {
          "base_uri": "https://localhost:8080/"
        },
        "outputId": "af8df045-6cca-4f18-8ee2-818faa336991"
      },
      "execution_count": null,
      "outputs": [
        {
          "output_type": "execute_result",
          "data": {
            "text/plain": [
              "id                0\n",
              "Overall Qual      0\n",
              "Gr Liv Area       0\n",
              "Exter Qual        0\n",
              "Garage Cars       0\n",
              "Garage Area       0\n",
              "Kitchen Qual      0\n",
              "Total Bsmt SF     0\n",
              "1st Flr SF        0\n",
              "Bsmt Qual         0\n",
              "Full Bath         0\n",
              "Year Built        0\n",
              "Year Remod/Add    0\n",
              "Garage Yr Blt     0\n",
              "dtype: int64"
            ]
          },
          "metadata": {},
          "execution_count": 111
        }
      ]
    },
    {
      "cell_type": "markdown",
      "source": [
        "#데이터 전처리\n",
        "> Garage Yr Blt(차고 완공 연도)에 오타로 추정 되는 이상치를 발견하여 값을 변경하였다."
      ],
      "metadata": {
        "id": "q1WNatTVginw"
      }
    },
    {
      "cell_type": "code",
      "source": [
        "train.describe()"
      ],
      "metadata": {
        "id": "1Bs89LPJF3Tx",
        "colab": {
          "base_uri": "https://localhost:8080/",
          "height": 300
        },
        "outputId": "b043ce59-a538-4558-dc54-8b1df1c454fb"
      },
      "execution_count": null,
      "outputs": [
        {
          "output_type": "execute_result",
          "data": {
            "text/html": [
              "\n",
              "  <div id=\"df-e725b068-7bc5-4fce-b5f6-82691acf7704\">\n",
              "    <div class=\"colab-df-container\">\n",
              "      <div>\n",
              "<style scoped>\n",
              "    .dataframe tbody tr th:only-of-type {\n",
              "        vertical-align: middle;\n",
              "    }\n",
              "\n",
              "    .dataframe tbody tr th {\n",
              "        vertical-align: top;\n",
              "    }\n",
              "\n",
              "    .dataframe thead th {\n",
              "        text-align: right;\n",
              "    }\n",
              "</style>\n",
              "<table border=\"1\" class=\"dataframe\">\n",
              "  <thead>\n",
              "    <tr style=\"text-align: right;\">\n",
              "      <th></th>\n",
              "      <th>id</th>\n",
              "      <th>Overall Qual</th>\n",
              "      <th>Gr Liv Area</th>\n",
              "      <th>Garage Cars</th>\n",
              "      <th>Garage Area</th>\n",
              "      <th>Total Bsmt SF</th>\n",
              "      <th>1st Flr SF</th>\n",
              "      <th>Full Bath</th>\n",
              "      <th>Year Built</th>\n",
              "      <th>Year Remod/Add</th>\n",
              "      <th>Garage Yr Blt</th>\n",
              "      <th>target</th>\n",
              "    </tr>\n",
              "  </thead>\n",
              "  <tbody>\n",
              "    <tr>\n",
              "      <th>count</th>\n",
              "      <td>1350.000000</td>\n",
              "      <td>1350.000000</td>\n",
              "      <td>1350.000000</td>\n",
              "      <td>1350.000000</td>\n",
              "      <td>1350.000000</td>\n",
              "      <td>1350.000000</td>\n",
              "      <td>1350.000000</td>\n",
              "      <td>1350.000000</td>\n",
              "      <td>1350.000000</td>\n",
              "      <td>1350.000000</td>\n",
              "      <td>1350.000000</td>\n",
              "      <td>1350.000000</td>\n",
              "    </tr>\n",
              "    <tr>\n",
              "      <th>mean</th>\n",
              "      <td>675.500000</td>\n",
              "      <td>6.208889</td>\n",
              "      <td>1513.542222</td>\n",
              "      <td>1.870370</td>\n",
              "      <td>502.014815</td>\n",
              "      <td>1082.644444</td>\n",
              "      <td>1167.474074</td>\n",
              "      <td>1.560741</td>\n",
              "      <td>1972.987407</td>\n",
              "      <td>1985.099259</td>\n",
              "      <td>1978.471852</td>\n",
              "      <td>186406.312593</td>\n",
              "    </tr>\n",
              "    <tr>\n",
              "      <th>std</th>\n",
              "      <td>389.855743</td>\n",
              "      <td>1.338015</td>\n",
              "      <td>487.523239</td>\n",
              "      <td>0.652483</td>\n",
              "      <td>191.389956</td>\n",
              "      <td>384.067713</td>\n",
              "      <td>375.061407</td>\n",
              "      <td>0.551646</td>\n",
              "      <td>29.307257</td>\n",
              "      <td>20.153244</td>\n",
              "      <td>25.377278</td>\n",
              "      <td>78435.424758</td>\n",
              "    </tr>\n",
              "    <tr>\n",
              "      <th>min</th>\n",
              "      <td>1.000000</td>\n",
              "      <td>2.000000</td>\n",
              "      <td>480.000000</td>\n",
              "      <td>1.000000</td>\n",
              "      <td>100.000000</td>\n",
              "      <td>105.000000</td>\n",
              "      <td>480.000000</td>\n",
              "      <td>0.000000</td>\n",
              "      <td>1880.000000</td>\n",
              "      <td>1950.000000</td>\n",
              "      <td>1900.000000</td>\n",
              "      <td>12789.000000</td>\n",
              "    </tr>\n",
              "    <tr>\n",
              "      <th>25%</th>\n",
              "      <td>338.250000</td>\n",
              "      <td>5.000000</td>\n",
              "      <td>1144.000000</td>\n",
              "      <td>1.000000</td>\n",
              "      <td>368.000000</td>\n",
              "      <td>816.000000</td>\n",
              "      <td>886.250000</td>\n",
              "      <td>1.000000</td>\n",
              "      <td>1955.000000</td>\n",
              "      <td>1968.000000</td>\n",
              "      <td>1961.000000</td>\n",
              "      <td>135000.000000</td>\n",
              "    </tr>\n",
              "    <tr>\n",
              "      <th>50%</th>\n",
              "      <td>675.500000</td>\n",
              "      <td>6.000000</td>\n",
              "      <td>1445.500000</td>\n",
              "      <td>2.000000</td>\n",
              "      <td>484.000000</td>\n",
              "      <td>1009.000000</td>\n",
              "      <td>1092.500000</td>\n",
              "      <td>2.000000</td>\n",
              "      <td>1976.000000</td>\n",
              "      <td>1993.000000</td>\n",
              "      <td>1978.500000</td>\n",
              "      <td>165375.000000</td>\n",
              "    </tr>\n",
              "    <tr>\n",
              "      <th>75%</th>\n",
              "      <td>1012.750000</td>\n",
              "      <td>7.000000</td>\n",
              "      <td>1774.500000</td>\n",
              "      <td>2.000000</td>\n",
              "      <td>588.000000</td>\n",
              "      <td>1309.500000</td>\n",
              "      <td>1396.500000</td>\n",
              "      <td>2.000000</td>\n",
              "      <td>2002.000000</td>\n",
              "      <td>2004.000000</td>\n",
              "      <td>2002.000000</td>\n",
              "      <td>217875.000000</td>\n",
              "    </tr>\n",
              "    <tr>\n",
              "      <th>max</th>\n",
              "      <td>1350.000000</td>\n",
              "      <td>10.000000</td>\n",
              "      <td>4476.000000</td>\n",
              "      <td>5.000000</td>\n",
              "      <td>1488.000000</td>\n",
              "      <td>2660.000000</td>\n",
              "      <td>2898.000000</td>\n",
              "      <td>4.000000</td>\n",
              "      <td>2010.000000</td>\n",
              "      <td>2010.000000</td>\n",
              "      <td>2207.000000</td>\n",
              "      <td>745000.000000</td>\n",
              "    </tr>\n",
              "  </tbody>\n",
              "</table>\n",
              "</div>\n",
              "      <button class=\"colab-df-convert\" onclick=\"convertToInteractive('df-e725b068-7bc5-4fce-b5f6-82691acf7704')\"\n",
              "              title=\"Convert this dataframe to an interactive table.\"\n",
              "              style=\"display:none;\">\n",
              "        \n",
              "  <svg xmlns=\"http://www.w3.org/2000/svg\" height=\"24px\"viewBox=\"0 0 24 24\"\n",
              "       width=\"24px\">\n",
              "    <path d=\"M0 0h24v24H0V0z\" fill=\"none\"/>\n",
              "    <path d=\"M18.56 5.44l.94 2.06.94-2.06 2.06-.94-2.06-.94-.94-2.06-.94 2.06-2.06.94zm-11 1L8.5 8.5l.94-2.06 2.06-.94-2.06-.94L8.5 2.5l-.94 2.06-2.06.94zm10 10l.94 2.06.94-2.06 2.06-.94-2.06-.94-.94-2.06-.94 2.06-2.06.94z\"/><path d=\"M17.41 7.96l-1.37-1.37c-.4-.4-.92-.59-1.43-.59-.52 0-1.04.2-1.43.59L10.3 9.45l-7.72 7.72c-.78.78-.78 2.05 0 2.83L4 21.41c.39.39.9.59 1.41.59.51 0 1.02-.2 1.41-.59l7.78-7.78 2.81-2.81c.8-.78.8-2.07 0-2.86zM5.41 20L4 18.59l7.72-7.72 1.47 1.35L5.41 20z\"/>\n",
              "  </svg>\n",
              "      </button>\n",
              "      \n",
              "  <style>\n",
              "    .colab-df-container {\n",
              "      display:flex;\n",
              "      flex-wrap:wrap;\n",
              "      gap: 12px;\n",
              "    }\n",
              "\n",
              "    .colab-df-convert {\n",
              "      background-color: #E8F0FE;\n",
              "      border: none;\n",
              "      border-radius: 50%;\n",
              "      cursor: pointer;\n",
              "      display: none;\n",
              "      fill: #1967D2;\n",
              "      height: 32px;\n",
              "      padding: 0 0 0 0;\n",
              "      width: 32px;\n",
              "    }\n",
              "\n",
              "    .colab-df-convert:hover {\n",
              "      background-color: #E2EBFA;\n",
              "      box-shadow: 0px 1px 2px rgba(60, 64, 67, 0.3), 0px 1px 3px 1px rgba(60, 64, 67, 0.15);\n",
              "      fill: #174EA6;\n",
              "    }\n",
              "\n",
              "    [theme=dark] .colab-df-convert {\n",
              "      background-color: #3B4455;\n",
              "      fill: #D2E3FC;\n",
              "    }\n",
              "\n",
              "    [theme=dark] .colab-df-convert:hover {\n",
              "      background-color: #434B5C;\n",
              "      box-shadow: 0px 1px 3px 1px rgba(0, 0, 0, 0.15);\n",
              "      filter: drop-shadow(0px 1px 2px rgba(0, 0, 0, 0.3));\n",
              "      fill: #FFFFFF;\n",
              "    }\n",
              "  </style>\n",
              "\n",
              "      <script>\n",
              "        const buttonEl =\n",
              "          document.querySelector('#df-e725b068-7bc5-4fce-b5f6-82691acf7704 button.colab-df-convert');\n",
              "        buttonEl.style.display =\n",
              "          google.colab.kernel.accessAllowed ? 'block' : 'none';\n",
              "\n",
              "        async function convertToInteractive(key) {\n",
              "          const element = document.querySelector('#df-e725b068-7bc5-4fce-b5f6-82691acf7704');\n",
              "          const dataTable =\n",
              "            await google.colab.kernel.invokeFunction('convertToInteractive',\n",
              "                                                     [key], {});\n",
              "          if (!dataTable) return;\n",
              "\n",
              "          const docLinkHtml = 'Like what you see? Visit the ' +\n",
              "            '<a target=\"_blank\" href=https://colab.research.google.com/notebooks/data_table.ipynb>data table notebook</a>'\n",
              "            + ' to learn more about interactive tables.';\n",
              "          element.innerHTML = '';\n",
              "          dataTable['output_type'] = 'display_data';\n",
              "          await google.colab.output.renderOutput(dataTable, element);\n",
              "          const docLink = document.createElement('div');\n",
              "          docLink.innerHTML = docLinkHtml;\n",
              "          element.appendChild(docLink);\n",
              "        }\n",
              "      </script>\n",
              "    </div>\n",
              "  </div>\n",
              "  "
            ],
            "text/plain": [
              "                id  Overall Qual  ...  Garage Yr Blt         target\n",
              "count  1350.000000   1350.000000  ...    1350.000000    1350.000000\n",
              "mean    675.500000      6.208889  ...    1978.471852  186406.312593\n",
              "std     389.855743      1.338015  ...      25.377278   78435.424758\n",
              "min       1.000000      2.000000  ...    1900.000000   12789.000000\n",
              "25%     338.250000      5.000000  ...    1961.000000  135000.000000\n",
              "50%     675.500000      6.000000  ...    1978.500000  165375.000000\n",
              "75%    1012.750000      7.000000  ...    2002.000000  217875.000000\n",
              "max    1350.000000     10.000000  ...    2207.000000  745000.000000\n",
              "\n",
              "[8 rows x 12 columns]"
            ]
          },
          "metadata": {},
          "execution_count": 112
        }
      ]
    },
    {
      "cell_type": "code",
      "source": [
        "train[train['Garage Yr Blt'] > 2020]"
      ],
      "metadata": {
        "id": "V87eSxEtfpXY",
        "colab": {
          "base_uri": "https://localhost:8080/",
          "height": 142
        },
        "outputId": "351ed884-0f71-44bf-be34-9db907bf5aa4"
      },
      "execution_count": null,
      "outputs": [
        {
          "output_type": "execute_result",
          "data": {
            "text/html": [
              "\n",
              "  <div id=\"df-d1842f99-ca85-49dc-bd21-47578f289d78\">\n",
              "    <div class=\"colab-df-container\">\n",
              "      <div>\n",
              "<style scoped>\n",
              "    .dataframe tbody tr th:only-of-type {\n",
              "        vertical-align: middle;\n",
              "    }\n",
              "\n",
              "    .dataframe tbody tr th {\n",
              "        vertical-align: top;\n",
              "    }\n",
              "\n",
              "    .dataframe thead th {\n",
              "        text-align: right;\n",
              "    }\n",
              "</style>\n",
              "<table border=\"1\" class=\"dataframe\">\n",
              "  <thead>\n",
              "    <tr style=\"text-align: right;\">\n",
              "      <th></th>\n",
              "      <th>id</th>\n",
              "      <th>Overall Qual</th>\n",
              "      <th>Gr Liv Area</th>\n",
              "      <th>Exter Qual</th>\n",
              "      <th>Garage Cars</th>\n",
              "      <th>Garage Area</th>\n",
              "      <th>Kitchen Qual</th>\n",
              "      <th>Total Bsmt SF</th>\n",
              "      <th>1st Flr SF</th>\n",
              "      <th>Bsmt Qual</th>\n",
              "      <th>Full Bath</th>\n",
              "      <th>Year Built</th>\n",
              "      <th>Year Remod/Add</th>\n",
              "      <th>Garage Yr Blt</th>\n",
              "      <th>target</th>\n",
              "    </tr>\n",
              "  </thead>\n",
              "  <tbody>\n",
              "    <tr>\n",
              "      <th>254</th>\n",
              "      <td>255</td>\n",
              "      <td>8</td>\n",
              "      <td>1564</td>\n",
              "      <td>Gd</td>\n",
              "      <td>2</td>\n",
              "      <td>502</td>\n",
              "      <td>Ex</td>\n",
              "      <td>1546</td>\n",
              "      <td>1564</td>\n",
              "      <td>Gd</td>\n",
              "      <td>2</td>\n",
              "      <td>2006</td>\n",
              "      <td>2007</td>\n",
              "      <td>2207</td>\n",
              "      <td>267300</td>\n",
              "    </tr>\n",
              "  </tbody>\n",
              "</table>\n",
              "</div>\n",
              "      <button class=\"colab-df-convert\" onclick=\"convertToInteractive('df-d1842f99-ca85-49dc-bd21-47578f289d78')\"\n",
              "              title=\"Convert this dataframe to an interactive table.\"\n",
              "              style=\"display:none;\">\n",
              "        \n",
              "  <svg xmlns=\"http://www.w3.org/2000/svg\" height=\"24px\"viewBox=\"0 0 24 24\"\n",
              "       width=\"24px\">\n",
              "    <path d=\"M0 0h24v24H0V0z\" fill=\"none\"/>\n",
              "    <path d=\"M18.56 5.44l.94 2.06.94-2.06 2.06-.94-2.06-.94-.94-2.06-.94 2.06-2.06.94zm-11 1L8.5 8.5l.94-2.06 2.06-.94-2.06-.94L8.5 2.5l-.94 2.06-2.06.94zm10 10l.94 2.06.94-2.06 2.06-.94-2.06-.94-.94-2.06-.94 2.06-2.06.94z\"/><path d=\"M17.41 7.96l-1.37-1.37c-.4-.4-.92-.59-1.43-.59-.52 0-1.04.2-1.43.59L10.3 9.45l-7.72 7.72c-.78.78-.78 2.05 0 2.83L4 21.41c.39.39.9.59 1.41.59.51 0 1.02-.2 1.41-.59l7.78-7.78 2.81-2.81c.8-.78.8-2.07 0-2.86zM5.41 20L4 18.59l7.72-7.72 1.47 1.35L5.41 20z\"/>\n",
              "  </svg>\n",
              "      </button>\n",
              "      \n",
              "  <style>\n",
              "    .colab-df-container {\n",
              "      display:flex;\n",
              "      flex-wrap:wrap;\n",
              "      gap: 12px;\n",
              "    }\n",
              "\n",
              "    .colab-df-convert {\n",
              "      background-color: #E8F0FE;\n",
              "      border: none;\n",
              "      border-radius: 50%;\n",
              "      cursor: pointer;\n",
              "      display: none;\n",
              "      fill: #1967D2;\n",
              "      height: 32px;\n",
              "      padding: 0 0 0 0;\n",
              "      width: 32px;\n",
              "    }\n",
              "\n",
              "    .colab-df-convert:hover {\n",
              "      background-color: #E2EBFA;\n",
              "      box-shadow: 0px 1px 2px rgba(60, 64, 67, 0.3), 0px 1px 3px 1px rgba(60, 64, 67, 0.15);\n",
              "      fill: #174EA6;\n",
              "    }\n",
              "\n",
              "    [theme=dark] .colab-df-convert {\n",
              "      background-color: #3B4455;\n",
              "      fill: #D2E3FC;\n",
              "    }\n",
              "\n",
              "    [theme=dark] .colab-df-convert:hover {\n",
              "      background-color: #434B5C;\n",
              "      box-shadow: 0px 1px 3px 1px rgba(0, 0, 0, 0.15);\n",
              "      filter: drop-shadow(0px 1px 2px rgba(0, 0, 0, 0.3));\n",
              "      fill: #FFFFFF;\n",
              "    }\n",
              "  </style>\n",
              "\n",
              "      <script>\n",
              "        const buttonEl =\n",
              "          document.querySelector('#df-d1842f99-ca85-49dc-bd21-47578f289d78 button.colab-df-convert');\n",
              "        buttonEl.style.display =\n",
              "          google.colab.kernel.accessAllowed ? 'block' : 'none';\n",
              "\n",
              "        async function convertToInteractive(key) {\n",
              "          const element = document.querySelector('#df-d1842f99-ca85-49dc-bd21-47578f289d78');\n",
              "          const dataTable =\n",
              "            await google.colab.kernel.invokeFunction('convertToInteractive',\n",
              "                                                     [key], {});\n",
              "          if (!dataTable) return;\n",
              "\n",
              "          const docLinkHtml = 'Like what you see? Visit the ' +\n",
              "            '<a target=\"_blank\" href=https://colab.research.google.com/notebooks/data_table.ipynb>data table notebook</a>'\n",
              "            + ' to learn more about interactive tables.';\n",
              "          element.innerHTML = '';\n",
              "          dataTable['output_type'] = 'display_data';\n",
              "          await google.colab.output.renderOutput(dataTable, element);\n",
              "          const docLink = document.createElement('div');\n",
              "          docLink.innerHTML = docLinkHtml;\n",
              "          element.appendChild(docLink);\n",
              "        }\n",
              "      </script>\n",
              "    </div>\n",
              "  </div>\n",
              "  "
            ],
            "text/plain": [
              "      id  Overall Qual  Gr Liv Area  ... Year Remod/Add  Garage Yr Blt  target\n",
              "254  255             8         1564  ...           2007           2207  267300\n",
              "\n",
              "[1 rows x 15 columns]"
            ]
          },
          "metadata": {},
          "execution_count": 113
        }
      ]
    },
    {
      "cell_type": "code",
      "source": [
        "train.at[254, 'Garage Yr Blt'] = 2007"
      ],
      "metadata": {
        "id": "7cbFEjeGfrVA"
      },
      "execution_count": null,
      "outputs": []
    },
    {
      "cell_type": "markdown",
      "source": [
        "필요없는 id변수 버리기\n",
        "> LabelEncoder로 범주형 변수 -> 숫자형 변수 변경"
      ],
      "metadata": {
        "id": "i2SEdKC6hZDw"
      }
    },
    {
      "cell_type": "code",
      "source": [
        "train.drop(['id'], axis = 1, inplace = True)\n",
        "test.drop(['id'], axis = 1, inplace = True)\n",
        "\n",
        "cate = ['Exter Qual', 'Kitchen Qual', 'Bsmt Qual']\n",
        "encoder = LabelEncoder()\n",
        "train[cate] = train[cate].apply(encoder.fit_transform)\n",
        "test[cate] = test[cate].apply(encoder.fit_transform)"
      ],
      "metadata": {
        "id": "bH_ANAw5ftIR"
      },
      "execution_count": null,
      "outputs": []
    },
    {
      "cell_type": "markdown",
      "source": [
        "상관관계 확인\n",
        "> target과 Overall Qual가 가장 높은 상관관계를 가지고 있다."
      ],
      "metadata": {
        "id": "h0JAqdjCo3P-"
      }
    },
    {
      "cell_type": "code",
      "source": [
        "plt.figure(figsize = (13, 13))\n",
        "sns.heatmap(train.corr(), annot = True)\n",
        "plt.xticks(rotation = 45, size = 13)\n",
        "plt.yticks(size = 13)\n",
        "plt.show()"
      ],
      "metadata": {
        "id": "DlK-lz5so17c",
        "colab": {
          "base_uri": "https://localhost:8080/",
          "height": 833
        },
        "outputId": "26379ccc-4cf4-43f8-b9d6-31c4bf2a85ce"
      },
      "execution_count": null,
      "outputs": [
        {
          "output_type": "display_data",
          "data": {
            "image/png": "[encoded data removed]",
            "text/plain": [
              "<Figure size 936x936 with 2 Axes>"
            ]
          },
          "metadata": {
            "needs_background": "light"
          }
        }
      ]
    },
    {
      "cell_type": "code",
      "source": [
        "x = train.drop(['target'], axis = 1)\n",
        "y = train['target']\n",
        "\n",
        "# array 형태로 변환\n",
        "x = np.array(x)\n",
        "y = np.array(y)\n",
        "test = np.array(test)"
      ],
      "metadata": {
        "id": "sDHnaCmefu-g"
      },
      "execution_count": null,
      "outputs": []
    },
    {
      "cell_type": "markdown",
      "source": [
        "#CatBoostRegressor + OOF \n",
        ">OOF 기법은 교차 검증으로 나온 각 모델의<br>\n",
        "동일한 test데이터에 대해 예측 값을 평균 계산하는 방식이다.\n",
        "\n",
        "\n"
      ],
      "metadata": {
        "id": "20IhIjkjiQhU"
      }
    },
    {
      "cell_type": "code",
      "source": [
        "from catboost import CatBoostRegressor\n",
        "from sklearn.model_selection import KFold\n",
        "\n",
        "kfold = KFold(n_splits = 10, shuffle = True, random_state = 1234)\n",
        "\n",
        "n_iter = 0\n",
        "cv_nmae= []\n",
        "\n",
        "cat_oof = np.zeros(test.shape[0]) # 예측 값을 계산하기 위해 초깃 값을 모두 0으로 설정\n",
        "\n",
        "for train_index, val_index in kfold.split(x, y):\n",
        "    x_train, x_val = x[train_index], x[val_index]\n",
        "    y_train, y_val = y[train_index], y[val_index]\n",
        "\n",
        "    cat_reg =  CatBoostRegressor(n_estimators = 2000,\n",
        "                                 learning_rate = 0.01,\n",
        "                                 random_state = 1234)\n",
        "\n",
        "    cat_reg.fit(x_train, y_train, verbose = 0)\n",
        "    pred_cat = cat_reg.predict(x_val)\n",
        "\n",
        "    n_iter += 1\n",
        "    nmae = NMAE(y_val, pred_cat)\n",
        "\n",
        "    print('#{0} 교차 검증:{1}'.format(n_iter, nmae))\n",
        "    cv_nmae.append(nmae)\n",
        "    cat_oof += cat_reg.predict(test)/10  # 교차 검증 된 모델로 예측 값들의 평균 계산\n",
        "\n",
        "print('## 평균 검증:', np.mean(cv_nmae)) "
      ],
      "metadata": {
        "id": "LlNo2az5hWmA",
        "colab": {
          "base_uri": "https://localhost:8080/"
        },
        "outputId": "4fb2c287-fe6b-46cb-f002-d20d28b64413"
      },
      "execution_count": null,
      "outputs": [
        {
          "output_type": "stream",
          "name": "stdout",
          "text": [
            "#1 교차 검증:0.08939885058272606\n",
            "#2 교차 검증:0.08432761939061333\n",
            "#3 교차 검증:0.0855772546821033\n",
            "#4 교차 검증:0.09415479424142963\n",
            "#5 교차 검증:0.09009069259974371\n",
            "#6 교차 검증:0.09939307697534379\n",
            "#7 교차 검증:0.10689027161254923\n",
            "#8 교차 검증:0.09271696250496278\n",
            "#9 교차 검증:0.09638475327080857\n"
          ]
        }
      ]
    },
    {
      "cell_type": "markdown",
      "source": [
        "submission 제출"
      ],
      "metadata": {
        "id": "d-UjbI6xogc9"
      }
    },
    {
      "cell_type": "code",
      "source": [
        "submission = pd.read_csv('/content/drive/MyDrive/data/dacon/basic/sample_submission.csv')\n",
        "submission = pd.DataFrame({'id':submission['id'], 'target':cat_oof})\n",
        "submission.to_csv('submission.csv', index = False)"
      ],
      "metadata": {
        "id": "gSkcptEggYmT"
      },
      "execution_count": null,
      "outputs": []
    },
    {
      "cell_type": "code",
      "source": [
        "submission"
      ],
      "metadata": {
        "id": "2cXwGQ1P1eYT"
      },
      "execution_count": null,
      "outputs": []
    }
  ]
}